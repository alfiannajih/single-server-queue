{
 "cells": [
  {
   "cell_type": "markdown",
   "id": "00372e20",
   "metadata": {},
   "source": [
    "## Single Server Queue Simulation\n",
    "\n",
    "linux commit"
   ]
  },
  {
   "cell_type": "markdown",
   "id": "5de44581",
   "metadata": {},
   "source": [
    "### Import library"
   ]
  },
  {
   "cell_type": "code",
   "execution_count": 1,
   "id": "eb4ea483",
   "metadata": {},
   "outputs": [],
   "source": [
    "import numpy as np\n",
    "from matplotlib import pyplot as plt\n",
    "import pandas as pd"
   ]
  },
  {
   "cell_type": "markdown",
   "id": "69d19891",
   "metadata": {},
   "source": [
    "### Initialization the functions"
   ]
  },
  {
   "cell_type": "code",
   "execution_count": 46,
   "id": "5ab391aa",
   "metadata": {},
   "outputs": [],
   "source": [
    "class queueSim:\n",
    "    def __init__(self, next_time, serv_time, total_cust):\n",
    "        self.next_time = next_time\n",
    "        self.serv_time = serv_time\n",
    "        self.tot_cust = total_cust\n",
    "        self.arr_time = np.zeros(total_cust, dtype=int)\n",
    "        self.start_serv = np.zeros(total_cust, dtype=int)\n",
    "        self.end_serv = np.zeros(total_cust, dtype=int)\n",
    "        \n",
    "    def simulation(self):\n",
    "        \n",
    "\n",
    "        for i in range(self.tot_cust):\n",
    "            #arriveList[i] = dt.datetime.fromtimestamp(time).strftime('%H:%M')\n",
    "\n",
    "            self.arr_time[i] = self.arr_time[i - 1] + self.next_time[i]\n",
    "            self.start_serv[i] = max(self.arr_time[i], self.end_serv[i - 1])\n",
    "            self.end_serv[i] = self.start_serv[i] + self.serv_time[i]"
   ]
  },
  {
   "cell_type": "markdown",
   "id": "bf4c0c92",
   "metadata": {},
   "source": [
    "### Simulation"
   ]
  },
  {
   "cell_type": "code",
   "execution_count": 47,
   "id": "9b2481e2",
   "metadata": {
    "scrolled": true
   },
   "outputs": [],
   "source": [
    "target_cust = 25\n",
    "next_arr_time = np.random.normal(25, 3, target_cust).astype(int) * 60\n",
    "service_time = np.random.normal(23, 5, target_cust).astype(int) * 60\n",
    "\n",
    "queue1 = queueSim(next_arr_time, service_time, target_cust)\n",
    "queue1.simulation()"
   ]
  },
  {
   "cell_type": "code",
   "execution_count": 64,
   "id": "5be5f50f",
   "metadata": {},
   "outputs": [],
   "source": [
    "df = pd.DataFrame([queue1.next_time, queue1.arr_time, queue1.serv_time, queue1.start_serv, queue1.end_serv]).T"
   ]
  },
  {
   "cell_type": "code",
   "execution_count": 65,
   "id": "638fe8b8",
   "metadata": {},
   "outputs": [
    {
     "data": {
      "text/html": [
       "<div>\n",
       "<style scoped>\n",
       "    .dataframe tbody tr th:only-of-type {\n",
       "        vertical-align: middle;\n",
       "    }\n",
       "\n",
       "    .dataframe tbody tr th {\n",
       "        vertical-align: top;\n",
       "    }\n",
       "\n",
       "    .dataframe thead th {\n",
       "        text-align: right;\n",
       "    }\n",
       "</style>\n",
       "<table border=\"1\" class=\"dataframe\">\n",
       "  <thead>\n",
       "    <tr style=\"text-align: right;\">\n",
       "      <th></th>\n",
       "      <th>Next</th>\n",
       "      <th>Arrival</th>\n",
       "      <th>Service</th>\n",
       "      <th>Start</th>\n",
       "      <th>End</th>\n",
       "    </tr>\n",
       "  </thead>\n",
       "  <tbody>\n",
       "    <tr>\n",
       "      <th>0</th>\n",
       "      <td>1860</td>\n",
       "      <td>1860</td>\n",
       "      <td>1680</td>\n",
       "      <td>1860</td>\n",
       "      <td>3540</td>\n",
       "    </tr>\n",
       "    <tr>\n",
       "      <th>1</th>\n",
       "      <td>1800</td>\n",
       "      <td>3660</td>\n",
       "      <td>1440</td>\n",
       "      <td>3660</td>\n",
       "      <td>5100</td>\n",
       "    </tr>\n",
       "    <tr>\n",
       "      <th>2</th>\n",
       "      <td>1440</td>\n",
       "      <td>5100</td>\n",
       "      <td>1320</td>\n",
       "      <td>5100</td>\n",
       "      <td>6420</td>\n",
       "    </tr>\n",
       "    <tr>\n",
       "      <th>3</th>\n",
       "      <td>1500</td>\n",
       "      <td>6600</td>\n",
       "      <td>1020</td>\n",
       "      <td>6600</td>\n",
       "      <td>7620</td>\n",
       "    </tr>\n",
       "    <tr>\n",
       "      <th>4</th>\n",
       "      <td>1380</td>\n",
       "      <td>7980</td>\n",
       "      <td>1380</td>\n",
       "      <td>7980</td>\n",
       "      <td>9360</td>\n",
       "    </tr>\n",
       "    <tr>\n",
       "      <th>5</th>\n",
       "      <td>1380</td>\n",
       "      <td>9360</td>\n",
       "      <td>1020</td>\n",
       "      <td>9360</td>\n",
       "      <td>10380</td>\n",
       "    </tr>\n",
       "    <tr>\n",
       "      <th>6</th>\n",
       "      <td>1560</td>\n",
       "      <td>10920</td>\n",
       "      <td>1320</td>\n",
       "      <td>10920</td>\n",
       "      <td>12240</td>\n",
       "    </tr>\n",
       "    <tr>\n",
       "      <th>7</th>\n",
       "      <td>1440</td>\n",
       "      <td>12360</td>\n",
       "      <td>1200</td>\n",
       "      <td>12360</td>\n",
       "      <td>13560</td>\n",
       "    </tr>\n",
       "    <tr>\n",
       "      <th>8</th>\n",
       "      <td>1620</td>\n",
       "      <td>13980</td>\n",
       "      <td>1500</td>\n",
       "      <td>13980</td>\n",
       "      <td>15480</td>\n",
       "    </tr>\n",
       "    <tr>\n",
       "      <th>9</th>\n",
       "      <td>1740</td>\n",
       "      <td>15720</td>\n",
       "      <td>1620</td>\n",
       "      <td>15720</td>\n",
       "      <td>17340</td>\n",
       "    </tr>\n",
       "    <tr>\n",
       "      <th>10</th>\n",
       "      <td>1320</td>\n",
       "      <td>17040</td>\n",
       "      <td>1080</td>\n",
       "      <td>17340</td>\n",
       "      <td>18420</td>\n",
       "    </tr>\n",
       "    <tr>\n",
       "      <th>11</th>\n",
       "      <td>1260</td>\n",
       "      <td>18300</td>\n",
       "      <td>1260</td>\n",
       "      <td>18420</td>\n",
       "      <td>19680</td>\n",
       "    </tr>\n",
       "    <tr>\n",
       "      <th>12</th>\n",
       "      <td>1500</td>\n",
       "      <td>19800</td>\n",
       "      <td>1020</td>\n",
       "      <td>19800</td>\n",
       "      <td>20820</td>\n",
       "    </tr>\n",
       "    <tr>\n",
       "      <th>13</th>\n",
       "      <td>1680</td>\n",
       "      <td>21480</td>\n",
       "      <td>1200</td>\n",
       "      <td>21480</td>\n",
       "      <td>22680</td>\n",
       "    </tr>\n",
       "    <tr>\n",
       "      <th>14</th>\n",
       "      <td>1620</td>\n",
       "      <td>23100</td>\n",
       "      <td>2220</td>\n",
       "      <td>23100</td>\n",
       "      <td>25320</td>\n",
       "    </tr>\n",
       "    <tr>\n",
       "      <th>15</th>\n",
       "      <td>1680</td>\n",
       "      <td>24780</td>\n",
       "      <td>1560</td>\n",
       "      <td>25320</td>\n",
       "      <td>26880</td>\n",
       "    </tr>\n",
       "    <tr>\n",
       "      <th>16</th>\n",
       "      <td>1740</td>\n",
       "      <td>26520</td>\n",
       "      <td>1140</td>\n",
       "      <td>26880</td>\n",
       "      <td>28020</td>\n",
       "    </tr>\n",
       "    <tr>\n",
       "      <th>17</th>\n",
       "      <td>1440</td>\n",
       "      <td>27960</td>\n",
       "      <td>1260</td>\n",
       "      <td>28020</td>\n",
       "      <td>29280</td>\n",
       "    </tr>\n",
       "    <tr>\n",
       "      <th>18</th>\n",
       "      <td>1860</td>\n",
       "      <td>29820</td>\n",
       "      <td>780</td>\n",
       "      <td>29820</td>\n",
       "      <td>30600</td>\n",
       "    </tr>\n",
       "    <tr>\n",
       "      <th>19</th>\n",
       "      <td>1740</td>\n",
       "      <td>31560</td>\n",
       "      <td>1260</td>\n",
       "      <td>31560</td>\n",
       "      <td>32820</td>\n",
       "    </tr>\n",
       "    <tr>\n",
       "      <th>20</th>\n",
       "      <td>1920</td>\n",
       "      <td>33480</td>\n",
       "      <td>1500</td>\n",
       "      <td>33480</td>\n",
       "      <td>34980</td>\n",
       "    </tr>\n",
       "    <tr>\n",
       "      <th>21</th>\n",
       "      <td>1200</td>\n",
       "      <td>34680</td>\n",
       "      <td>1800</td>\n",
       "      <td>34980</td>\n",
       "      <td>36780</td>\n",
       "    </tr>\n",
       "    <tr>\n",
       "      <th>22</th>\n",
       "      <td>1440</td>\n",
       "      <td>36120</td>\n",
       "      <td>1260</td>\n",
       "      <td>36780</td>\n",
       "      <td>38040</td>\n",
       "    </tr>\n",
       "    <tr>\n",
       "      <th>23</th>\n",
       "      <td>1260</td>\n",
       "      <td>37380</td>\n",
       "      <td>1500</td>\n",
       "      <td>38040</td>\n",
       "      <td>39540</td>\n",
       "    </tr>\n",
       "    <tr>\n",
       "      <th>24</th>\n",
       "      <td>1380</td>\n",
       "      <td>38760</td>\n",
       "      <td>1560</td>\n",
       "      <td>39540</td>\n",
       "      <td>41100</td>\n",
       "    </tr>\n",
       "  </tbody>\n",
       "</table>\n",
       "</div>"
      ],
      "text/plain": [
       "    Next  Arrival  Service  Start    End\n",
       "0   1860     1860     1680   1860   3540\n",
       "1   1800     3660     1440   3660   5100\n",
       "2   1440     5100     1320   5100   6420\n",
       "3   1500     6600     1020   6600   7620\n",
       "4   1380     7980     1380   7980   9360\n",
       "5   1380     9360     1020   9360  10380\n",
       "6   1560    10920     1320  10920  12240\n",
       "7   1440    12360     1200  12360  13560\n",
       "8   1620    13980     1500  13980  15480\n",
       "9   1740    15720     1620  15720  17340\n",
       "10  1320    17040     1080  17340  18420\n",
       "11  1260    18300     1260  18420  19680\n",
       "12  1500    19800     1020  19800  20820\n",
       "13  1680    21480     1200  21480  22680\n",
       "14  1620    23100     2220  23100  25320\n",
       "15  1680    24780     1560  25320  26880\n",
       "16  1740    26520     1140  26880  28020\n",
       "17  1440    27960     1260  28020  29280\n",
       "18  1860    29820      780  29820  30600\n",
       "19  1740    31560     1260  31560  32820\n",
       "20  1920    33480     1500  33480  34980\n",
       "21  1200    34680     1800  34980  36780\n",
       "22  1440    36120     1260  36780  38040\n",
       "23  1260    37380     1500  38040  39540\n",
       "24  1380    38760     1560  39540  41100"
      ]
     },
     "execution_count": 65,
     "metadata": {},
     "output_type": "execute_result"
    }
   ],
   "source": [
    "df.columns = ['Next', 'Arrival', 'Service', 'Start', 'End']\n",
    "df"
   ]
  },
  {
   "cell_type": "code",
   "execution_count": 48,
   "id": "e9138563",
   "metadata": {},
   "outputs": [
    {
     "data": {
      "text/plain": [
       "array([ 1860,  3660,  5100,  6600,  7980,  9360, 10920, 12360, 13980,\n",
       "       15720, 17040, 18300, 19800, 21480, 23100, 24780, 26520, 27960,\n",
       "       29820, 31560, 33480, 34680, 36120, 37380, 38760])"
      ]
     },
     "execution_count": 48,
     "metadata": {},
     "output_type": "execute_result"
    }
   ],
   "source": [
    "queue1.arr_time"
   ]
  },
  {
   "cell_type": "code",
   "execution_count": 51,
   "id": "275ec876",
   "metadata": {},
   "outputs": [
    {
     "data": {
      "text/plain": [
       "array([1680, 1440, 1320, 1020, 1380, 1020, 1320, 1200, 1500, 1620, 1080,\n",
       "       1260, 1020, 1200, 2220, 1560, 1140, 1260,  780, 1260, 1500, 1800,\n",
       "       1260, 1500, 1560])"
      ]
     },
     "execution_count": 51,
     "metadata": {},
     "output_type": "execute_result"
    }
   ],
   "source": [
    "queue1.serv_time"
   ]
  },
  {
   "cell_type": "code",
   "execution_count": 50,
   "id": "98155f24",
   "metadata": {},
   "outputs": [
    {
     "data": {
      "text/plain": [
       "array([ 3540,  5100,  6420,  7620,  9360, 10380, 12240, 13560, 15480,\n",
       "       17340, 18420, 19680, 20820, 22680, 25320, 26880, 28020, 29280,\n",
       "       30600, 32820, 34980, 36780, 38040, 39540, 41100])"
      ]
     },
     "execution_count": 50,
     "metadata": {},
     "output_type": "execute_result"
    }
   ],
   "source": [
    "queue1.end_serv"
   ]
  },
  {
   "cell_type": "code",
   "execution_count": 49,
   "id": "a53a3d0d",
   "metadata": {},
   "outputs": [
    {
     "data": {
      "text/plain": [
       "array([ 1860,  3660,  5100,  6600,  7980,  9360, 10920, 12360, 13980,\n",
       "       15720, 17340, 18420, 19800, 21480, 23100, 25320, 26880, 28020,\n",
       "       29820, 31560, 33480, 34980, 36780, 38040, 39540])"
      ]
     },
     "execution_count": 49,
     "metadata": {},
     "output_type": "execute_result"
    }
   ],
   "source": [
    "queue1.start_serv"
   ]
  }
 ],
 "metadata": {
  "kernelspec": {
   "display_name": "Python 3 (ipykernel)",
   "language": "python",
   "name": "python3"
  },
  "language_info": {
   "codemirror_mode": {
    "name": "ipython",
    "version": 3
   },
   "file_extension": ".py",
   "mimetype": "text/x-python",
   "name": "python",
   "nbconvert_exporter": "python",
   "pygments_lexer": "ipython3",
   "version": "3.10.7"
  }
 },
 "nbformat": 4,
 "nbformat_minor": 5
}
