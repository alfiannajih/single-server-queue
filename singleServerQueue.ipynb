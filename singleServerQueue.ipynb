{
 "cells": [
  {
   "cell_type": "markdown",
   "id": "00372e20",
   "metadata": {},
   "source": [
    "## Single Server Queue Simulation"
   ]
  },
  {
   "cell_type": "markdown",
   "id": "5de44581",
   "metadata": {},
   "source": [
    "### Import library"
   ]
  },
  {
   "cell_type": "code",
   "execution_count": 1,
   "id": "eb4ea483",
   "metadata": {},
   "outputs": [],
   "source": [
    "import numpy as np\n",
    "from matplotlib import pyplot as plt\n",
    "import pandas as pd"
   ]
  },
  {
   "cell_type": "markdown",
   "id": "69d19891",
   "metadata": {},
   "source": [
    "### Initialization the functions"
   ]
  },
  {
   "cell_type": "code",
   "execution_count": 255,
   "id": "5ab391aa",
   "metadata": {},
   "outputs": [],
   "source": [
    "class QueueSim:\n",
    "    def __init__(self, next_time, serv_time, total_cust):\n",
    "        self.next_time = next_time\n",
    "        self.serv_time = serv_time\n",
    "        self.tot_cust = total_cust\n",
    "        self.arr_time = np.zeros(total_cust, dtype=int)\n",
    "        self.start_serv = np.zeros(total_cust, dtype=int)\n",
    "        self.end_serv = np.zeros(total_cust, dtype=int)\n",
    "        self.waiting_time = np.zeros(total_cust, dtype=int)\n",
    "        \n",
    "    def simulation(self):\n",
    "        for i in range(self.tot_cust):\n",
    "            #arriveList[i] = dt.datetime.fromtimestamp(time).strftime('%H:%M')\n",
    "\n",
    "            self.arr_time[i] = self.arr_time[i - 1] + self.next_time[i]\n",
    "            self.start_serv[i] = max(self.arr_time[i], self.end_serv[i - 1])\n",
    "            self.end_serv[i] = self.start_serv[i] + self.serv_time[i]\n",
    "        \n",
    "        self.waiting_time = self.start_serv - self.arr_time\n",
    "        \n",
    "    def simulation_table(self):\n",
    "        df = pd.DataFrame([self.next_time, self.arr_time, self.waiting_time,\n",
    "                           self.start_serv, self.serv_time, self.end_serv]).T\n",
    "        df.columns = ['Next', 'Arrival', 'Waiting', 'Start', 'Service', 'End']\n",
    "        return df\n",
    "    \n",
    "    def queue_table(self):\n",
    "        time = np.concatenate((self.arr_time, self.end_serv))\n",
    "        waiting_line = np.zeros(time.shape, dtype=int) - 1\n",
    "        \n",
    "        act = np.empty(time.shape, dtype='U6')\n",
    "        act[0:target_cust] = 'ARRIVE'\n",
    "        act[target_cust: target_cust * 2] = 'LEAVE'\n",
    "        \n",
    "        cust_id = np.concatenate((np.arange(0, self.tot_cust, 1), np.arange(0, self.tot_cust, 1)))\n",
    "        \n",
    "        df2 = pd.DataFrame([time, cust_id, act]).T.sort_values(by=0).reset_index(drop=True)\n",
    "        df2.columns = ['Time', 'Customer', 'Activity']\n",
    "        \n",
    "        for i in range(time.shape[0]):\n",
    "            if df2.loc[:, 'Activity'][i] == 'ARRIVE':\n",
    "                waiting_line[i] = waiting_line[i - 1] + 1\n",
    "            else:\n",
    "                waiting_line[i] = waiting_line[i - 1] - 1\n",
    "        \n",
    "        for i in range(time.shape[0]):\n",
    "            if waiting_line[i] < 0:\n",
    "                waiting_line[i] = 0\n",
    "        \n",
    "        df2['Waiting Line'] = waiting_line.T\n",
    "        \n",
    "        return df2\n",
    "    \n",
    "    def server_utilization(self):\n",
    "        return (self.tot_cust/time[-1]) * (np.mean(self.serv_time))"
   ]
  },
  {
   "cell_type": "markdown",
   "id": "bf4c0c92",
   "metadata": {},
   "source": [
    "### Simulation"
   ]
  },
  {
   "cell_type": "code",
   "execution_count": 336,
   "id": "9b2481e2",
   "metadata": {
    "scrolled": false
   },
   "outputs": [
    {
     "data": {
      "image/png": "[encoded data removed]",
      "text/plain": [
       "<Figure size 640x480 with 1 Axes>"
      ]
     },
     "metadata": {},
     "output_type": "display_data"
    },
    {
     "name": "stdout",
     "output_type": "stream",
     "text": [
      "The average of server utilization: 0.9045060124212659 \n"
     ]
    }
   ],
   "source": [
    "target_cust = 25\n",
    "total_simulation = 365 #number of days\n",
    "serv_util = np.zeros(total_simulation)\n",
    "\n",
    "for i in range(total_simulation):\n",
    "    next_arr_time = np.random.poisson(25, target_cust).astype(int) * 60\n",
    "    service_time = np.random.normal(23, 3, target_cust).astype(int) * 60\n",
    "\n",
    "    queue1 = QueueSim(next_arr_time, service_time, target_cust)\n",
    "    queue1.simulation()\n",
    "\n",
    "    serv_util[i] = queue1.server_utilization()\n",
    "    \n",
    "plt.hist(serv_util, 20)\n",
    "plt.title('Server Utilization Distribution')\n",
    "plt.show()\n",
    "print(f'The average of server utilization: {np.mean(serv_util)} ')"
   ]
  }
 ],
 "metadata": {
  "kernelspec": {
   "display_name": "Python 3 (ipykernel)",
   "language": "python",
   "name": "python3"
  },
  "language_info": {
   "codemirror_mode": {
    "name": "ipython",
    "version": 3
   },
   "file_extension": ".py",
   "mimetype": "text/x-python",
   "name": "python",
   "nbconvert_exporter": "python",
   "pygments_lexer": "ipython3",
   "version": "3.10.7"
  }
 },
 "nbformat": 4,
 "nbformat_minor": 5
}
